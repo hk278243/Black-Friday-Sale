{
 "cells": [
  {
   "cell_type": "code",
   "execution_count": 22,
   "id": "64ecadb3",
   "metadata": {},
   "outputs": [],
   "source": [
    "import pandas as pd"
   ]
  },
  {
   "cell_type": "code",
   "execution_count": 23,
   "id": "abe7f437",
   "metadata": {},
   "outputs": [],
   "source": [
    "df = pd.read_csv('BlackFriday.csv')\n",
    "\n",
    "del df['Product_Category_2']\n",
    "del df['Product_Category_3']"
   ]
  },
  {
   "cell_type": "code",
   "execution_count": 24,
   "id": "a4a3ac9f",
   "metadata": {},
   "outputs": [
    {
     "data": {
      "text/html": [
       "<div>\n",
       "<style scoped>\n",
       "    .dataframe tbody tr th:only-of-type {\n",
       "        vertical-align: middle;\n",
       "    }\n",
       "\n",
       "    .dataframe tbody tr th {\n",
       "        vertical-align: top;\n",
       "    }\n",
       "\n",
       "    .dataframe thead th {\n",
       "        text-align: right;\n",
       "    }\n",
       "</style>\n",
       "<table border=\"1\" class=\"dataframe\">\n",
       "  <thead>\n",
       "    <tr style=\"text-align: right;\">\n",
       "      <th></th>\n",
       "      <th>User_ID</th>\n",
       "      <th>Product_ID</th>\n",
       "      <th>Gender</th>\n",
       "      <th>Age</th>\n",
       "      <th>Occupation</th>\n",
       "      <th>City_Category</th>\n",
       "      <th>Stay_In_Current_City_Years</th>\n",
       "      <th>Marital_Status</th>\n",
       "      <th>Product_Category_1</th>\n",
       "    </tr>\n",
       "  </thead>\n",
       "  <tbody>\n",
       "    <tr>\n",
       "      <th>0</th>\n",
       "      <td>1000004</td>\n",
       "      <td>P00128942</td>\n",
       "      <td>M</td>\n",
       "      <td>46-50</td>\n",
       "      <td>7</td>\n",
       "      <td>B</td>\n",
       "      <td>2</td>\n",
       "      <td>1</td>\n",
       "      <td>1</td>\n",
       "    </tr>\n",
       "    <tr>\n",
       "      <th>1</th>\n",
       "      <td>1000009</td>\n",
       "      <td>P00113442</td>\n",
       "      <td>M</td>\n",
       "      <td>26-35</td>\n",
       "      <td>17</td>\n",
       "      <td>C</td>\n",
       "      <td>0</td>\n",
       "      <td>0</td>\n",
       "      <td>3</td>\n",
       "    </tr>\n",
       "    <tr>\n",
       "      <th>2</th>\n",
       "      <td>1000010</td>\n",
       "      <td>P00288442</td>\n",
       "      <td>F</td>\n",
       "      <td>36-45</td>\n",
       "      <td>1</td>\n",
       "      <td>B</td>\n",
       "      <td>4+</td>\n",
       "      <td>1</td>\n",
       "      <td>5</td>\n",
       "    </tr>\n",
       "    <tr>\n",
       "      <th>3</th>\n",
       "      <td>1000010</td>\n",
       "      <td>P00145342</td>\n",
       "      <td>F</td>\n",
       "      <td>36-45</td>\n",
       "      <td>1</td>\n",
       "      <td>B</td>\n",
       "      <td>4+</td>\n",
       "      <td>1</td>\n",
       "      <td>4</td>\n",
       "    </tr>\n",
       "    <tr>\n",
       "      <th>4</th>\n",
       "      <td>1000011</td>\n",
       "      <td>P00053842</td>\n",
       "      <td>F</td>\n",
       "      <td>26-35</td>\n",
       "      <td>1</td>\n",
       "      <td>C</td>\n",
       "      <td>1</td>\n",
       "      <td>0</td>\n",
       "      <td>4</td>\n",
       "    </tr>\n",
       "  </tbody>\n",
       "</table>\n",
       "</div>"
      ],
      "text/plain": [
       "   User_ID Product_ID Gender    Age  Occupation City_Category  \\\n",
       "0  1000004  P00128942      M  46-50           7             B   \n",
       "1  1000009  P00113442      M  26-35          17             C   \n",
       "2  1000010  P00288442      F  36-45           1             B   \n",
       "3  1000010  P00145342      F  36-45           1             B   \n",
       "4  1000011  P00053842      F  26-35           1             C   \n",
       "\n",
       "  Stay_In_Current_City_Years  Marital_Status  Product_Category_1  \n",
       "0                          2               1                   1  \n",
       "1                          0               0                   3  \n",
       "2                         4+               1                   5  \n",
       "3                         4+               1                   4  \n",
       "4                          1               0                   4  "
      ]
     },
     "execution_count": 24,
     "metadata": {},
     "output_type": "execute_result"
    }
   ],
   "source": [
    "df.head()"
   ]
  },
  {
   "cell_type": "code",
   "execution_count": 25,
   "id": "f5e600ce",
   "metadata": {},
   "outputs": [
    {
     "data": {
      "text/plain": [
       "0         1000004\n",
       "1         1000009\n",
       "2         1000010\n",
       "3         1000010\n",
       "4         1000011\n",
       "           ...   \n",
       "233594    1006036\n",
       "233595    1006036\n",
       "233596    1006036\n",
       "233597    1006037\n",
       "233598    1006039\n",
       "Name: User_ID, Length: 233599, dtype: int64"
      ]
     },
     "execution_count": 25,
     "metadata": {},
     "output_type": "execute_result"
    }
   ],
   "source": [
    "df['User_ID']"
   ]
  },
  {
   "cell_type": "code",
   "execution_count": 26,
   "id": "30ce2e49",
   "metadata": {},
   "outputs": [
    {
     "data": {
      "text/plain": [
       "5891"
      ]
     },
     "execution_count": 26,
     "metadata": {},
     "output_type": "execute_result"
    }
   ],
   "source": [
    "df['User_ID'].nunique()   ## nunique == how many unique customer is having"
   ]
  },
  {
   "cell_type": "code",
   "execution_count": 27,
   "id": "2e8fc57e",
   "metadata": {},
   "outputs": [
    {
     "data": {
      "text/plain": [
       "array([1000004, 1000009, 1000010, ..., 1001656, 1005796, 1001189],\n",
       "      dtype=int64)"
      ]
     },
     "execution_count": 27,
     "metadata": {},
     "output_type": "execute_result"
    }
   ],
   "source": [
    "df['User_ID'].unique()"
   ]
  },
  {
   "cell_type": "code",
   "execution_count": 28,
   "id": "5802dee0",
   "metadata": {},
   "outputs": [
    {
     "data": {
      "text/plain": [
       "3491"
      ]
     },
     "execution_count": 28,
     "metadata": {},
     "output_type": "execute_result"
    }
   ],
   "source": [
    "df['Product_ID'].nunique()"
   ]
  },
  {
   "cell_type": "code",
   "execution_count": 29,
   "id": "7b2c35ca",
   "metadata": {},
   "outputs": [
    {
     "data": {
      "text/plain": [
       "array(['M', 'F'], dtype=object)"
      ]
     },
     "execution_count": 29,
     "metadata": {},
     "output_type": "execute_result"
    }
   ],
   "source": [
    "df['Gender'].unique()"
   ]
  },
  {
   "cell_type": "code",
   "execution_count": 30,
   "id": "be906923",
   "metadata": {},
   "outputs": [
    {
     "data": {
      "text/plain": [
       "array(['46-50', '26-35', '36-45', '18-25', '51-55', '55+', '0-17'],\n",
       "      dtype=object)"
      ]
     },
     "execution_count": 30,
     "metadata": {},
     "output_type": "execute_result"
    }
   ],
   "source": [
    "df['Age'].unique()"
   ]
  },
  {
   "cell_type": "code",
   "execution_count": 31,
   "id": "4eeb51dd",
   "metadata": {},
   "outputs": [
    {
     "data": {
      "text/plain": [
       "array([ 7, 17,  1, 15,  3,  0,  8, 16,  4, 12, 13, 18, 11,  9,  2, 20, 14,\n",
       "       10,  6, 19,  5], dtype=int64)"
      ]
     },
     "execution_count": 31,
     "metadata": {},
     "output_type": "execute_result"
    }
   ],
   "source": [
    "df['Occupation'].unique()"
   ]
  },
  {
   "cell_type": "code",
   "execution_count": 32,
   "id": "179b6b8d",
   "metadata": {},
   "outputs": [
    {
     "data": {
      "text/plain": [
       "array(['B', 'C', 'A'], dtype=object)"
      ]
     },
     "execution_count": 32,
     "metadata": {},
     "output_type": "execute_result"
    }
   ],
   "source": [
    "df['City_Category'].unique()"
   ]
  },
  {
   "cell_type": "code",
   "execution_count": 33,
   "id": "76d7cf42",
   "metadata": {},
   "outputs": [
    {
     "data": {
      "text/plain": [
       "array(['2', '0', '4+', '1', '3'], dtype=object)"
      ]
     },
     "execution_count": 33,
     "metadata": {},
     "output_type": "execute_result"
    }
   ],
   "source": [
    "df['Stay_In_Current_City_Years'].unique()"
   ]
  },
  {
   "cell_type": "code",
   "execution_count": 34,
   "id": "0bec1e30",
   "metadata": {},
   "outputs": [
    {
     "data": {
      "text/plain": [
       "array([1, 0], dtype=int64)"
      ]
     },
     "execution_count": 34,
     "metadata": {},
     "output_type": "execute_result"
    }
   ],
   "source": [
    "df['Marital_Status'].unique()"
   ]
  },
  {
   "cell_type": "code",
   "execution_count": 35,
   "id": "9402b785",
   "metadata": {},
   "outputs": [
    {
     "data": {
      "text/plain": [
       "array([ 1,  3,  5,  4,  2, 10, 15, 18,  8, 13,  6, 11, 12,  7, 16, 14, 17,\n",
       "        9], dtype=int64)"
      ]
     },
     "execution_count": 35,
     "metadata": {},
     "output_type": "execute_result"
    }
   ],
   "source": [
    "df['Product_Category_1'].unique()"
   ]
  },
  {
   "cell_type": "code",
   "execution_count": 36,
   "id": "608188a2",
   "metadata": {},
   "outputs": [],
   "source": [
    "#df['Purchase'].sum()/len(df['Purchase'])"
   ]
  },
  {
   "cell_type": "code",
   "execution_count": 40,
   "id": "3df2e45b",
   "metadata": {},
   "outputs": [
    {
     "data": {
      "text/plain": [
       "Index(['User_ID', 'Product_ID', 'Gender', 'Age', 'Occupation', 'City_Category',\n",
       "       'Stay_In_Current_City_Years', 'Marital_Status', 'Product_Category_1'],\n",
       "      dtype='object')"
      ]
     },
     "execution_count": 40,
     "metadata": {},
     "output_type": "execute_result"
    }
   ],
   "source": [
    "df.columns"
   ]
  },
  {
   "cell_type": "code",
   "execution_count": 41,
   "id": "af939ad8",
   "metadata": {},
   "outputs": [
    {
     "name": "stdout",
     "output_type": "stream",
     "text": [
      "<bound method IndexOpsMixin.nunique of 0         1000004\n",
      "1         1000009\n",
      "2         1000010\n",
      "3         1000010\n",
      "4         1000011\n",
      "           ...   \n",
      "233594    1006036\n",
      "233595    1006036\n",
      "233596    1006036\n",
      "233597    1006037\n",
      "233598    1006039\n",
      "Name: User_ID, Length: 233599, dtype: int64>\n",
      "<bound method IndexOpsMixin.nunique of 0         P00128942\n",
      "1         P00113442\n",
      "2         P00288442\n",
      "3         P00145342\n",
      "4         P00053842\n",
      "            ...    \n",
      "233594    P00118942\n",
      "233595    P00254642\n",
      "233596    P00031842\n",
      "233597    P00124742\n",
      "233598    P00316642\n",
      "Name: Product_ID, Length: 233599, dtype: object>\n",
      "<bound method IndexOpsMixin.nunique of 0         M\n",
      "1         M\n",
      "2         F\n",
      "3         F\n",
      "4         F\n",
      "         ..\n",
      "233594    F\n",
      "233595    F\n",
      "233596    F\n",
      "233597    F\n",
      "233598    F\n",
      "Name: Gender, Length: 233599, dtype: object>\n",
      "<bound method IndexOpsMixin.nunique of 0         46-50\n",
      "1         26-35\n",
      "2         36-45\n",
      "3         36-45\n",
      "4         26-35\n",
      "          ...  \n",
      "233594    26-35\n",
      "233595    26-35\n",
      "233596    26-35\n",
      "233597    46-50\n",
      "233598    46-50\n",
      "Name: Age, Length: 233599, dtype: object>\n",
      "<bound method IndexOpsMixin.nunique of 0          7\n",
      "1         17\n",
      "2          1\n",
      "3          1\n",
      "4          1\n",
      "          ..\n",
      "233594    15\n",
      "233595    15\n",
      "233596    15\n",
      "233597     1\n",
      "233598     0\n",
      "Name: Occupation, Length: 233599, dtype: int64>\n",
      "<bound method IndexOpsMixin.nunique of 0         B\n",
      "1         C\n",
      "2         B\n",
      "3         B\n",
      "4         C\n",
      "         ..\n",
      "233594    B\n",
      "233595    B\n",
      "233596    B\n",
      "233597    C\n",
      "233598    B\n",
      "Name: City_Category, Length: 233599, dtype: object>\n",
      "<bound method IndexOpsMixin.nunique of 0          2\n",
      "1          0\n",
      "2         4+\n",
      "3         4+\n",
      "4          1\n",
      "          ..\n",
      "233594    4+\n",
      "233595    4+\n",
      "233596    4+\n",
      "233597    4+\n",
      "233598    4+\n",
      "Name: Stay_In_Current_City_Years, Length: 233599, dtype: object>\n",
      "<bound method IndexOpsMixin.nunique of 0         1\n",
      "1         0\n",
      "2         1\n",
      "3         1\n",
      "4         0\n",
      "         ..\n",
      "233594    1\n",
      "233595    1\n",
      "233596    1\n",
      "233597    0\n",
      "233598    1\n",
      "Name: Marital_Status, Length: 233599, dtype: int64>\n",
      "<bound method IndexOpsMixin.nunique of 0          1\n",
      "1          3\n",
      "2          5\n",
      "3          4\n",
      "4          4\n",
      "          ..\n",
      "233594     8\n",
      "233595     5\n",
      "233596     1\n",
      "233597    10\n",
      "233598     4\n",
      "Name: Product_Category_1, Length: 233599, dtype: int64>\n"
     ]
    }
   ],
   "source": [
    "for column in df.columns:\n",
    "    print(df[column].nunique)"
   ]
  },
  {
   "cell_type": "code",
   "execution_count": 43,
   "id": "a4a2ec1c",
   "metadata": {},
   "outputs": [
    {
     "name": "stdout",
     "output_type": "stream",
     "text": [
      "User_ID : 5891\n",
      "Product_ID : 3491\n",
      "Gender : 2\n",
      "Age : 7\n",
      "Occupation : 21\n",
      "City_Category : 3\n",
      "Stay_In_Current_City_Years : 5\n",
      "Marital_Status : 2\n",
      "Product_Category_1 : 18\n"
     ]
    }
   ],
   "source": [
    "for column in df.columns:\n",
    "    print(column, \":\", df[column].nunique())"
   ]
  },
  {
   "cell_type": "code",
   "execution_count": null,
   "id": "0e4a0df9",
   "metadata": {},
   "outputs": [],
   "source": []
  },
  {
   "cell_type": "code",
   "execution_count": null,
   "id": "6ca49a16",
   "metadata": {},
   "outputs": [],
   "source": []
  }
 ],
 "metadata": {
  "kernelspec": {
   "display_name": "Python 3 (ipykernel)",
   "language": "python",
   "name": "python3"
  },
  "language_info": {
   "codemirror_mode": {
    "name": "ipython",
    "version": 3
   },
   "file_extension": ".py",
   "mimetype": "text/x-python",
   "name": "python",
   "nbconvert_exporter": "python",
   "pygments_lexer": "ipython3",
   "version": "3.9.13"
  }
 },
 "nbformat": 4,
 "nbformat_minor": 5
}
